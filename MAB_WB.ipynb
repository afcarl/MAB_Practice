{
 "metadata": {
  "name": "",
  "signature": "sha256:5dc440abd8df37d3ff305abcb94be19e8bc909831e85f9f6cb28adca6182517d"
 },
 "nbformat": 3,
 "nbformat_minor": 0,
 "worksheets": [
  {
   "cells": [
    {
     "cell_type": "heading",
     "level": 5,
     "metadata": {},
     "source": [
      "Frequentists A/B Example"
     ]
    },
    {
     "cell_type": "markdown",
     "metadata": {},
     "source": [
      "web \n",
      "    - subscription sign up = 10% \n",
      "    - views = 1500\n",
      "    - increase subscription by 2%\n",
      "    \n",
      "Total visitors to convince one of 4 options delivering goal\n",
      "\n",
      "    - significance = 95%\n",
      "    - power = 80%"
     ]
    },
    {
     "cell_type": "code",
     "collapsed": false,
     "input": [
      "from statsmodels.stats.proportion import proportion_effectsize\n",
      "from statsmodels.stats.power import NormalIndPower"
     ],
     "language": "python",
     "metadata": {},
     "outputs": [],
     "prompt_number": 14
    },
    {
     "cell_type": "code",
     "collapsed": false,
     "input": [
      "proportion_effectsize(.02, .1)"
     ],
     "language": "python",
     "metadata": {},
     "outputs": [
      {
       "metadata": {},
       "output_type": "pyout",
       "prompt_number": 13,
       "text": [
        "-0.35970699958495655"
       ]
      }
     ],
     "prompt_number": 13
    },
    {
     "cell_type": "code",
     "collapsed": false,
     "input": [
      "p = NormalIndPower()"
     ],
     "language": "python",
     "metadata": {},
     "outputs": [],
     "prompt_number": 15
    },
    {
     "cell_type": "code",
     "collapsed": false,
     "input": [],
     "language": "python",
     "metadata": {},
     "outputs": []
    }
   ],
   "metadata": {}
  }
 ]
}