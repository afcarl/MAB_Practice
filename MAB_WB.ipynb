{
 "metadata": {
  "name": "",
  "signature": "sha256:e8f3a8ceeffac06b6abdba6e3513cb7173aba09f5ec48e2fe744a4dba81f79e4"
 },
 "nbformat": 3,
 "nbformat_minor": 0,
 "worksheets": [
  {
   "cells": [
    {
     "cell_type": "heading",
     "level": 5,
     "metadata": {},
     "source": [
      "Frequentists A/B Example"
     ]
    },
    {
     "cell_type": "markdown",
     "metadata": {},
     "source": [
      "web \n",
      "    - subscription sign up = 10% \n",
      "    - views = 1500\n",
      "    - increase subscription by 2%\n",
      "    \n",
      "Total visitors to convince one of 4 options delivering goal\n",
      "\n",
      "    - significance = 95%\n",
      "    - power = 80%"
     ]
    },
    {
     "cell_type": "code",
     "collapsed": false,
     "input": [
      "from statsmodels.stats.proportion import proportion_effectsize\n",
      "from statsmodels.stats.power import NormalIndPower"
     ],
     "language": "python",
     "metadata": {},
     "outputs": [],
     "prompt_number": 14
    },
    {
     "cell_type": "raw",
     "metadata": {},
     "source": [
      "Calculate parameters for a 2 sided t-test in order to obtain target statistical power (~ power prop test) to tell you sample size. Consider original conversion rate and change in conversion rate.\n",
      "https://stackoverflow.com/questions/15204070/is-there-a-python-scipy-function-to-determine-parameters-needed-to-obtain-a-ta"
     ]
    },
    {
     "cell_type": "markdown",
     "metadata": {},
     "source": [
      "n= (2s^2 * ((z_(sig/2) + z_power)^2) / (d^2)\n",
      "d (difference in means), s (standard deviation), sig (significance level, typically .05), and power (typically .80), the formula for calculating the n (number of observations per group is)."
     ]
    },
    {
     "cell_type": "markdown",
     "metadata": {},
     "source": [
      "Calculate effect size"
     ]
    },
    {
     "cell_type": "code",
     "collapsed": false,
     "input": [
      "es = proportion_effectsize(.1, .12)\n",
      "print es"
     ],
     "language": "python",
     "metadata": {},
     "outputs": [
      {
       "output_type": "stream",
       "stream": "stdout",
       "text": [
        "-0.0639821029861\n"
       ]
      }
     ],
     "prompt_number": 20
    },
    {
     "cell_type": "markdown",
     "metadata": {},
     "source": [
      "Run power analysis"
     ]
    },
    {
     "cell_type": "code",
     "collapsed": false,
     "input": [
      "p = NormalIndPower().solve_power(es, power=.8, alpha=0.05, ratio=1)\n",
      "print p"
     ],
     "language": "python",
     "metadata": {},
     "outputs": [
      {
       "output_type": "stream",
       "stream": "stdout",
       "text": [
        "3834.59573988\n"
       ]
      }
     ],
     "prompt_number": 24
    },
    {
     "cell_type": "code",
     "collapsed": false,
     "input": [],
     "language": "python",
     "metadata": {},
     "outputs": []
    }
   ],
   "metadata": {}
  }
 ]
}