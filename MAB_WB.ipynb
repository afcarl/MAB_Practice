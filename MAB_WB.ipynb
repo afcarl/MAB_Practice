{
 "metadata": {
  "name": "",
  "signature": "sha256:33af7a360caf779e3122ed25b33c579d0e8984d402cff724d8dd474f6144928b"
 },
 "nbformat": 3,
 "nbformat_minor": 0,
 "worksheets": [
  {
   "cells": [
    {
     "cell_type": "heading",
     "level": 5,
     "metadata": {},
     "source": [
      "Frequentists A/B Example"
     ]
    },
    {
     "cell_type": "markdown",
     "metadata": {},
     "source": [
      "web \n",
      "    - subscription sign up = 10% \n",
      "    - views = 1500\n",
      "    - increase subscription by 2%\n",
      "    \n",
      "Total visitors to convince one of 4 options delivering goal\n",
      "\n",
      "    - significance/alpha = 95%/5%\n",
      "    - power = 80%"
     ]
    },
    {
     "cell_type": "code",
     "collapsed": false,
     "input": [
      "from statsmodels.stats.proportion import proportion_effectsize\n",
      "from statsmodels.stats.power import NormalIndPower\n",
      "import numpy as np\n",
      "import pandas as pd"
     ],
     "language": "python",
     "metadata": {},
     "outputs": [],
     "prompt_number": 46
    },
    {
     "cell_type": "raw",
     "metadata": {},
     "source": [
      "Calculate parameters for a 2 sided t-test in order to obtain target statistical power (~ power prop test) to tell you sample size. Consider original conversion rate and change in conversion rate.\n",
      "https://stackoverflow.com/questions/15204070/is-there-a-python-scipy-function-to-determine-parameters-needed-to-obtain-a-ta"
     ]
    },
    {
     "cell_type": "markdown",
     "metadata": {},
     "source": [
      "n= (2s^2 * ((z_(sig/2) + z_power)^2) / (d^2)\n",
      "d (difference in means), s (standard deviation), sig (significance level, typically .05), and power (typically .80), the formula for calculating the n (number of observations per group is)."
     ]
    },
    {
     "cell_type": "markdown",
     "metadata": {},
     "source": [
      "Calculate effect size"
     ]
    },
    {
     "cell_type": "code",
     "collapsed": false,
     "input": [
      "es = proportion_effectsize(.1, .12)\n",
      "print es"
     ],
     "language": "python",
     "metadata": {},
     "outputs": [
      {
       "output_type": "stream",
       "stream": "stdout",
       "text": [
        "-0.0639821029861\n"
       ]
      }
     ],
     "prompt_number": 20
    },
    {
     "cell_type": "markdown",
     "metadata": {},
     "source": [
      "Run power analysis - how large the sample needs to be to achieve the power\n",
      "ratio is automatically 1 where proportion sizes are 1 to 1."
     ]
    },
    {
     "cell_type": "code",
     "collapsed": false,
     "input": [
      "p = NormalIndPower().solve_power(es, power=.8, alpha=0.05)\n",
      "print p"
     ],
     "language": "python",
     "metadata": {},
     "outputs": [
      {
       "output_type": "stream",
       "stream": "stdout",
       "text": [
        "3834.59573988\n"
       ]
      }
     ],
     "prompt_number": 35
    },
    {
     "cell_type": "code",
     "collapsed": false,
     "input": [
      "# Vary significance and power\n",
      "power = np.arange(0.1,1,0.05)\n",
      "alpha = np.arange(0.05,10,0.05)\n"
     ],
     "language": "python",
     "metadata": {},
     "outputs": [],
     "prompt_number": 71
    },
    {
     "cell_type": "code",
     "collapsed": false,
     "input": [
      "result = pd.DataFrame(index=alpha, columns=power)\n",
      "for p_val in power:\n",
      "    for a_val in alpha:\n",
      "        result.loc[a_val,p_val] = NormalIndPower().solve_power(es, power=.8, alpha=.05)"
     ],
     "language": "python",
     "metadata": {},
     "outputs": [],
     "prompt_number": 72
    },
    {
     "cell_type": "code",
     "collapsed": false,
     "input": [
      "result"
     ],
     "language": "python",
     "metadata": {},
     "outputs": [
      {
       "html": [
        "<pre>\n",
        "&lt;class 'pandas.core.frame.DataFrame'&gt;\n",
        "Index: 199 entries, 0.05 to 9.95\n",
        "Data columns (total 18 columns):\n",
        "0.1     199  non-null values\n",
        "0.15    199  non-null values\n",
        "0.2     199  non-null values\n",
        "0.25    199  non-null values\n",
        "0.3     199  non-null values\n",
        "0.35    199  non-null values\n",
        "0.4     199  non-null values\n",
        "0.45    199  non-null values\n",
        "0.5     199  non-null values\n",
        "0.55    199  non-null values\n",
        "0.6     199  non-null values\n",
        "0.65    199  non-null values\n",
        "0.7     199  non-null values\n",
        "0.75    199  non-null values\n",
        "0.8     199  non-null values\n",
        "0.85    199  non-null values\n",
        "0.9     199  non-null values\n",
        "0.95    199  non-null values\n",
        "dtypes: object(18)\n",
        "</pre>"
       ],
       "metadata": {},
       "output_type": "pyout",
       "prompt_number": 74,
       "text": [
        "<class 'pandas.core.frame.DataFrame'>\n",
        "Index: 199 entries, 0.05 to 9.95\n",
        "Data columns (total 18 columns):\n",
        "0.1     199  non-null values\n",
        "0.15    199  non-null values\n",
        "0.2     199  non-null values\n",
        "0.25    199  non-null values\n",
        "0.3     199  non-null values\n",
        "0.35    199  non-null values\n",
        "0.4     199  non-null values\n",
        "0.45    199  non-null values\n",
        "0.5     199  non-null values\n",
        "0.55    199  non-null values\n",
        "0.6     199  non-null values\n",
        "0.65    199  non-null values\n",
        "0.7     199  non-null values\n",
        "0.75    199  non-null values\n",
        "0.8     199  non-null values\n",
        "0.85    199  non-null values\n",
        "0.9     199  non-null values\n",
        "0.95    199  non-null values\n",
        "dtypes: object(18)"
       ]
      }
     ],
     "prompt_number": 74
    },
    {
     "cell_type": "code",
     "collapsed": false,
     "input": [],
     "language": "python",
     "metadata": {},
     "outputs": []
    }
   ],
   "metadata": {}
  }
 ]
}