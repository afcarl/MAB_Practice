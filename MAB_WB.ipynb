{
 "metadata": {
  "name": "",
  "signature": "sha256:97583d9b2a62ed9fa12fdbece1ecb139429474815c950e2c2f3c72855ef78c18"
 },
 "nbformat": 3,
 "nbformat_minor": 0,
 "worksheets": [
  {
   "cells": [
    {
     "cell_type": "heading",
     "level": 5,
     "metadata": {},
     "source": [
      "Frequentists A/B Example"
     ]
    },
    {
     "cell_type": "markdown",
     "metadata": {},
     "source": [
      "web \n",
      "    - subscription sign up = 10% \n",
      "    - views = 1500\n",
      "    - increase subscription by 2%\n",
      "    \n",
      "Total visitors to convince one of 4 options delivering goal\n",
      "\n",
      "    - significance/alpha = 95%/5%\n",
      "    - power = 80%"
     ]
    },
    {
     "cell_type": "code",
     "collapsed": false,
     "input": [
      "from statsmodels.stats.proportion import proportion_effectsize\n",
      "from statsmodels.stats.power import NormalIndPower\n",
      "import numpy as np\n",
      "import pandas as pd\n",
      "import matplotlib.pyplot as plt"
     ],
     "language": "python",
     "metadata": {},
     "outputs": [],
     "prompt_number": 120
    },
    {
     "cell_type": "raw",
     "metadata": {},
     "source": [
      "Calculate parameters for a 2 sided t-test in order to obtain target statistical power (~ power prop test) to tell you sample size. Consider original conversion rate and change in conversion rate.\n",
      "https://stackoverflow.com/questions/15204070/is-there-a-python-scipy-function-to-determine-parameters-needed-to-obtain-a-ta"
     ]
    },
    {
     "cell_type": "markdown",
     "metadata": {},
     "source": [
      "n= (2s^2 * ((z_(sig/2) + z_power)^2) / (d^2)\n",
      "d (difference in means), s (standard deviation), sig (significance level, typically .05), and power (typically .80), the formula for calculating the n (number of observations per group is)."
     ]
    },
    {
     "cell_type": "markdown",
     "metadata": {},
     "source": [
      "Calculate effect size"
     ]
    },
    {
     "cell_type": "code",
     "collapsed": false,
     "input": [
      "es = proportion_effectsize(.1, .12)\n",
      "print es"
     ],
     "language": "python",
     "metadata": {},
     "outputs": [
      {
       "output_type": "stream",
       "stream": "stdout",
       "text": [
        "-0.0639821029861\n"
       ]
      }
     ],
     "prompt_number": 20
    },
    {
     "cell_type": "markdown",
     "metadata": {},
     "source": [
      "Run power analysis - how large the sample needs to be to achieve the power\n",
      "ratio is automatically 1 where proportion sizes are 1 to 1."
     ]
    },
    {
     "cell_type": "code",
     "collapsed": false,
     "input": [
      "p = NormalIndPower().solve_power(es, power=.8, alpha=0.05)\n",
      "print p"
     ],
     "language": "python",
     "metadata": {},
     "outputs": [
      {
       "output_type": "stream",
       "stream": "stdout",
       "text": [
        "3834.59573988\n"
       ]
      }
     ],
     "prompt_number": 35
    },
    {
     "cell_type": "code",
     "collapsed": false,
     "input": [
      "# Vary significance and power\n",
      "power = np.arange(0.1,1,0.05)\n",
      "alpha = np.arange(0.01,0.08,0.01)\n"
     ],
     "language": "python",
     "metadata": {},
     "outputs": [],
     "prompt_number": 94
    },
    {
     "cell_type": "code",
     "collapsed": false,
     "input": [
      "result = pd.DataFrame(index=alpha, columns=power)\n",
      "for p_val in power:\n",
      "    for a_val in alpha:\n",
      "        result.loc[a_val,p_val] = NormalIndPower().solve_power(es, power=p_val, alpha=a_val)"
     ],
     "language": "python",
     "metadata": {},
     "outputs": [],
     "prompt_number": 95
    },
    {
     "cell_type": "code",
     "collapsed": false,
     "input": [
      "result.head()"
     ],
     "language": "python",
     "metadata": {},
     "outputs": [
      {
       "html": [
        "<div style=\"max-height:1000px;max-width:1500px;overflow:auto;\">\n",
        "<table border=\"1\" class=\"dataframe\">\n",
        "  <thead>\n",
        "    <tr style=\"text-align: right;\">\n",
        "      <th></th>\n",
        "      <th>0.1</th>\n",
        "      <th>0.15</th>\n",
        "      <th>0.2</th>\n",
        "      <th>0.25</th>\n",
        "      <th>0.3</th>\n",
        "      <th>0.35</th>\n",
        "      <th>0.4</th>\n",
        "      <th>0.45</th>\n",
        "      <th>0.5</th>\n",
        "      <th>0.55</th>\n",
        "      <th>0.6</th>\n",
        "      <th>0.65</th>\n",
        "      <th>0.7</th>\n",
        "      <th>0.75</th>\n",
        "      <th>0.8</th>\n",
        "      <th>0.85</th>\n",
        "      <th>0.9</th>\n",
        "      <th>0.95</th>\n",
        "    </tr>\n",
        "  </thead>\n",
        "  <tbody>\n",
        "    <tr>\n",
        "      <th>0.01</th>\n",
        "      <td> 818.0119</td>\n",
        "      <td> 1157.622</td>\n",
        "      <td> 1469.267</td>\n",
        "      <td> 1766.147</td>\n",
        "      <td> 2056.002</td>\n",
        "      <td>  2344.24</td>\n",
        "      <td> 2635.223</td>\n",
        "      <td> 2932.949</td>\n",
        "      <td> 3241.507</td>\n",
        "      <td> 3565.495</td>\n",
        "      <td> 3910.506</td>\n",
        "      <td> 4283.845</td>\n",
        "      <td> 4695.704</td>\n",
        "      <td>  5161.37</td>\n",
        "      <td> 5705.812</td>\n",
        "      <td> 6374.874</td>\n",
        "      <td> 7269.391</td>\n",
        "      <td> 8703.189</td>\n",
        "    </tr>\n",
        "    <tr>\n",
        "      <th>0.02</th>\n",
        "      <td> 531.1106</td>\n",
        "      <td> 812.0858</td>\n",
        "      <td> 1076.617</td>\n",
        "      <td>  1332.91</td>\n",
        "      <td> 1586.251</td>\n",
        "      <td> 1840.621</td>\n",
        "      <td> 2099.452</td>\n",
        "      <td> 2366.063</td>\n",
        "      <td> 2643.996</td>\n",
        "      <td> 2937.355</td>\n",
        "      <td> 3251.242</td>\n",
        "      <td>  3592.41</td>\n",
        "      <td> 3970.367</td>\n",
        "      <td> 4399.445</td>\n",
        "      <td> 4903.146</td>\n",
        "      <td> 5524.719</td>\n",
        "      <td> 6359.483</td>\n",
        "      <td> 7704.719</td>\n",
        "    </tr>\n",
        "    <tr>\n",
        "      <th>0.03</th>\n",
        "      <td>  380.091</td>\n",
        "      <td> 625.5962</td>\n",
        "      <td> 861.1278</td>\n",
        "      <td> 1092.241</td>\n",
        "      <td> 1322.835</td>\n",
        "      <td> 1556.063</td>\n",
        "      <td> 1794.797</td>\n",
        "      <td> 2041.943</td>\n",
        "      <td> 2300.708</td>\n",
        "      <td> 2574.892</td>\n",
        "      <td> 2869.291</td>\n",
        "      <td> 3190.314</td>\n",
        "      <td> 3547.038</td>\n",
        "      <td> 3953.203</td>\n",
        "      <td> 4431.386</td>\n",
        "      <td> 5023.216</td>\n",
        "      <td> 5820.556</td>\n",
        "      <td> 7110.323</td>\n",
        "    </tr>\n",
        "    <tr>\n",
        "      <th>0.04</th>\n",
        "      <td> 280.7299</td>\n",
        "      <td> 501.0013</td>\n",
        "      <td>  715.486</td>\n",
        "      <td> 928.1343</td>\n",
        "      <td> 1141.952</td>\n",
        "      <td> 1359.531</td>\n",
        "      <td> 1583.359</td>\n",
        "      <td> 1816.049</td>\n",
        "      <td> 2060.566</td>\n",
        "      <td> 2320.488</td>\n",
        "      <td> 2600.387</td>\n",
        "      <td> 2906.417</td>\n",
        "      <td> 3247.337</td>\n",
        "      <td> 3636.443</td>\n",
        "      <td>  4095.63</td>\n",
        "      <td> 4665.315</td>\n",
        "      <td> 5434.791</td>\n",
        "      <td> 6683.259</td>\n",
        "    </tr>\n",
        "    <tr>\n",
        "      <th>0.05</th>\n",
        "      <td> 207.9147</td>\n",
        "      <td> 408.8701</td>\n",
        "      <td> 606.9163</td>\n",
        "      <td> 804.9763</td>\n",
        "      <td> 1005.447</td>\n",
        "      <td> 1210.522</td>\n",
        "      <td> 1422.404</td>\n",
        "      <td> 1643.487</td>\n",
        "      <td> 1876.549</td>\n",
        "      <td> 2124.996</td>\n",
        "      <td>  2393.22</td>\n",
        "      <td> 2687.173</td>\n",
        "      <td>  3015.36</td>\n",
        "      <td>  3390.72</td>\n",
        "      <td> 3834.596</td>\n",
        "      <td> 4386.431</td>\n",
        "      <td> 5133.447</td>\n",
        "      <td> 6348.623</td>\n",
        "    </tr>\n",
        "  </tbody>\n",
        "</table>\n",
        "</div>"
       ],
       "metadata": {},
       "output_type": "pyout",
       "prompt_number": 122,
       "text": [
        "          0.10      0.15      0.20      0.25      0.30      0.35      0.40  \\\n",
        "0.01  818.0119  1157.622  1469.267  1766.147  2056.002   2344.24  2635.223   \n",
        "0.02  531.1106  812.0858  1076.617   1332.91  1586.251  1840.621  2099.452   \n",
        "0.03   380.091  625.5962  861.1278  1092.241  1322.835  1556.063  1794.797   \n",
        "0.04  280.7299  501.0013   715.486  928.1343  1141.952  1359.531  1583.359   \n",
        "0.05  207.9147  408.8701  606.9163  804.9763  1005.447  1210.522  1422.404   \n",
        "\n",
        "          0.45      0.50      0.55      0.60      0.65      0.70      0.75  \\\n",
        "0.01  2932.949  3241.507  3565.495  3910.506  4283.845  4695.704   5161.37   \n",
        "0.02  2366.063  2643.996  2937.355  3251.242   3592.41  3970.367  4399.445   \n",
        "0.03  2041.943  2300.708  2574.892  2869.291  3190.314  3547.038  3953.203   \n",
        "0.04  1816.049  2060.566  2320.488  2600.387  2906.417  3247.337  3636.443   \n",
        "0.05  1643.487  1876.549  2124.996   2393.22  2687.173   3015.36   3390.72   \n",
        "\n",
        "          0.80      0.85      0.90      0.95  \n",
        "0.01  5705.812  6374.874  7269.391  8703.189  \n",
        "0.02  4903.146  5524.719  6359.483  7704.719  \n",
        "0.03  4431.386  5023.216  5820.556  7110.323  \n",
        "0.04   4095.63  4665.315  5434.791  6683.259  \n",
        "0.05  3834.596  4386.431  5133.447  6348.623  "
       ]
      }
     ],
     "prompt_number": 122
    },
    {
     "cell_type": "code",
     "collapsed": false,
     "input": [
      "%matplotlib inline\n",
      "result.plot?"
     ],
     "language": "python",
     "metadata": {},
     "outputs": [],
     "prompt_number": 85
    },
    {
     "cell_type": "code",
     "collapsed": false,
     "input": [
      "plt.figure()\n",
      "result.loc[.01, :].plot(kind=\"line\"); # alpha constant with power variation"
     ],
     "language": "python",
     "metadata": {},
     "outputs": [
      {
       "metadata": {},
       "output_type": "pyout",
       "prompt_number": 130,
       "text": [
        "<matplotlib.axes.AxesSubplot at 0x109e23f90>"
       ]
      },
      {
       "metadata": {},
       "output_type": "display_data",
       "png": "[encoded data removed]",
       "text": [
        "<matplotlib.figure.Figure at 0x108ba3d10>"
       ]
      }
     ],
     "prompt_number": 130
    },
    {
     "cell_type": "code",
     "collapsed": false,
     "input": [
      "import rand \n",
      "df2 = pd.DataFrame(rand(10, 4), columns=['a', 'b', 'c', 'd'])\n",
      "\n",
      "df2.plot(kind='bar');"
     ],
     "language": "python",
     "metadata": {},
     "outputs": [
      {
       "ename": "ImportError",
       "evalue": "No module named rand",
       "output_type": "pyerr",
       "traceback": [
        "\u001b[0;31m---------------------------------------------------------------------------\u001b[0m\n\u001b[0;31mImportError\u001b[0m                               Traceback (most recent call last)",
        "\u001b[0;32m<ipython-input-135-1b017fb8bc69>\u001b[0m in \u001b[0;36m<module>\u001b[0;34m()\u001b[0m\n\u001b[0;32m----> 1\u001b[0;31m \u001b[0;32mimport\u001b[0m \u001b[0mrand\u001b[0m\u001b[0;34m\u001b[0m\u001b[0m\n\u001b[0m\u001b[1;32m      2\u001b[0m \u001b[0mdf2\u001b[0m \u001b[0;34m=\u001b[0m \u001b[0mpd\u001b[0m\u001b[0;34m.\u001b[0m\u001b[0mDataFrame\u001b[0m\u001b[0;34m(\u001b[0m\u001b[0mrand\u001b[0m\u001b[0;34m(\u001b[0m\u001b[0;36m10\u001b[0m\u001b[0;34m,\u001b[0m \u001b[0;36m4\u001b[0m\u001b[0;34m)\u001b[0m\u001b[0;34m,\u001b[0m \u001b[0mcolumns\u001b[0m\u001b[0;34m=\u001b[0m\u001b[0;34m[\u001b[0m\u001b[0;34m'a'\u001b[0m\u001b[0;34m,\u001b[0m \u001b[0;34m'b'\u001b[0m\u001b[0;34m,\u001b[0m \u001b[0;34m'c'\u001b[0m\u001b[0;34m,\u001b[0m \u001b[0;34m'd'\u001b[0m\u001b[0;34m]\u001b[0m\u001b[0;34m)\u001b[0m\u001b[0;34m\u001b[0m\u001b[0m\n\u001b[1;32m      3\u001b[0m \u001b[0;34m\u001b[0m\u001b[0m\n\u001b[1;32m      4\u001b[0m \u001b[0mdf2\u001b[0m\u001b[0;34m.\u001b[0m\u001b[0mplot\u001b[0m\u001b[0;34m(\u001b[0m\u001b[0mkind\u001b[0m\u001b[0;34m=\u001b[0m\u001b[0;34m'bar'\u001b[0m\u001b[0;34m)\u001b[0m\u001b[0;34m;\u001b[0m\u001b[0;34m\u001b[0m\u001b[0m\n",
        "\u001b[0;31mImportError\u001b[0m: No module named rand"
       ]
      }
     ],
     "prompt_number": 135
    },
    {
     "cell_type": "code",
     "collapsed": false,
     "input": [
      "plt.figure()\n",
      "result.plot(kind=\"line\"); # power constant with alpha variation\n",
      "# loop through variations and graph each line... \n",
      "# see if there is alternative to using iloc - using name and apply axis..."
     ],
     "language": "python",
     "metadata": {},
     "outputs": [
      {
       "ename": "TypeError",
       "evalue": "Empty 'DataFrame': no numeric data to plot",
       "output_type": "pyerr",
       "traceback": [
        "\u001b[0;31m---------------------------------------------------------------------------\u001b[0m\n\u001b[0;31mTypeError\u001b[0m                                 Traceback (most recent call last)",
        "\u001b[0;32m<ipython-input-123-5e32338e293d>\u001b[0m in \u001b[0;36m<module>\u001b[0;34m()\u001b[0m\n\u001b[1;32m      1\u001b[0m \u001b[0mplt\u001b[0m\u001b[0;34m.\u001b[0m\u001b[0mfigure\u001b[0m\u001b[0;34m(\u001b[0m\u001b[0;34m)\u001b[0m\u001b[0;34m\u001b[0m\u001b[0m\n\u001b[0;32m----> 2\u001b[0;31m \u001b[0mresult\u001b[0m\u001b[0;34m.\u001b[0m\u001b[0mplot\u001b[0m\u001b[0;34m(\u001b[0m\u001b[0mkind\u001b[0m\u001b[0;34m=\u001b[0m\u001b[0;34m\"line\"\u001b[0m\u001b[0;34m)\u001b[0m\u001b[0;34m;\u001b[0m \u001b[0;31m# power constant with alpha variation\u001b[0m\u001b[0;34m\u001b[0m\u001b[0m\n\u001b[0m\u001b[1;32m      3\u001b[0m \u001b[0;31m# loop through variations and graph each line...\u001b[0m\u001b[0;34m\u001b[0m\u001b[0;34m\u001b[0m\u001b[0m\n\u001b[1;32m      4\u001b[0m \u001b[0;31m# see if there is alternative to using iloc - using name and apply axis...\u001b[0m\u001b[0;34m\u001b[0m\u001b[0;34m\u001b[0m\u001b[0m\n",
        "\u001b[0;32m/Users/willow/anaconda/lib/python2.7/site-packages/pandas/tools/plotting.pyc\u001b[0m in \u001b[0;36mplot_frame\u001b[0;34m(frame, x, y, subplots, sharex, sharey, use_index, figsize, grid, legend, rot, ax, style, title, xlim, ylim, logx, logy, xticks, yticks, kind, sort_columns, fontsize, secondary_y, **kwds)\u001b[0m\n\u001b[1;32m   1634\u001b[0m                      \u001b[0mlogy\u001b[0m\u001b[0;34m=\u001b[0m\u001b[0mlogy\u001b[0m\u001b[0;34m,\u001b[0m \u001b[0msort_columns\u001b[0m\u001b[0;34m=\u001b[0m\u001b[0msort_columns\u001b[0m\u001b[0;34m,\u001b[0m\u001b[0;34m\u001b[0m\u001b[0m\n\u001b[1;32m   1635\u001b[0m                      secondary_y=secondary_y, **kwds)\n\u001b[0;32m-> 1636\u001b[0;31m     \u001b[0mplot_obj\u001b[0m\u001b[0;34m.\u001b[0m\u001b[0mgenerate\u001b[0m\u001b[0;34m(\u001b[0m\u001b[0;34m)\u001b[0m\u001b[0;34m\u001b[0m\u001b[0m\n\u001b[0m\u001b[1;32m   1637\u001b[0m     \u001b[0mplot_obj\u001b[0m\u001b[0;34m.\u001b[0m\u001b[0mdraw\u001b[0m\u001b[0;34m(\u001b[0m\u001b[0;34m)\u001b[0m\u001b[0;34m\u001b[0m\u001b[0m\n\u001b[1;32m   1638\u001b[0m     \u001b[0;32mif\u001b[0m \u001b[0msubplots\u001b[0m\u001b[0;34m:\u001b[0m\u001b[0;34m\u001b[0m\u001b[0m\n",
        "\u001b[0;32m/Users/willow/anaconda/lib/python2.7/site-packages/pandas/tools/plotting.pyc\u001b[0m in \u001b[0;36mgenerate\u001b[0;34m(self)\u001b[0m\n\u001b[1;32m    852\u001b[0m     \u001b[0;32mdef\u001b[0m \u001b[0mgenerate\u001b[0m\u001b[0;34m(\u001b[0m\u001b[0mself\u001b[0m\u001b[0;34m)\u001b[0m\u001b[0;34m:\u001b[0m\u001b[0;34m\u001b[0m\u001b[0m\n\u001b[1;32m    853\u001b[0m         \u001b[0mself\u001b[0m\u001b[0;34m.\u001b[0m\u001b[0m_args_adjust\u001b[0m\u001b[0;34m(\u001b[0m\u001b[0;34m)\u001b[0m\u001b[0;34m\u001b[0m\u001b[0m\n\u001b[0;32m--> 854\u001b[0;31m         \u001b[0mself\u001b[0m\u001b[0;34m.\u001b[0m\u001b[0m_compute_plot_data\u001b[0m\u001b[0;34m(\u001b[0m\u001b[0;34m)\u001b[0m\u001b[0;34m\u001b[0m\u001b[0m\n\u001b[0m\u001b[1;32m    855\u001b[0m         \u001b[0mself\u001b[0m\u001b[0;34m.\u001b[0m\u001b[0m_setup_subplots\u001b[0m\u001b[0;34m(\u001b[0m\u001b[0;34m)\u001b[0m\u001b[0;34m\u001b[0m\u001b[0m\n\u001b[1;32m    856\u001b[0m         \u001b[0mself\u001b[0m\u001b[0;34m.\u001b[0m\u001b[0m_make_plot\u001b[0m\u001b[0;34m(\u001b[0m\u001b[0;34m)\u001b[0m\u001b[0;34m\u001b[0m\u001b[0m\n",
        "\u001b[0;32m/Users/willow/anaconda/lib/python2.7/site-packages/pandas/tools/plotting.pyc\u001b[0m in \u001b[0;36m_compute_plot_data\u001b[0;34m(self)\u001b[0m\n\u001b[1;32m    947\u001b[0m         \u001b[0;32mif\u001b[0m \u001b[0mis_empty\u001b[0m\u001b[0;34m:\u001b[0m\u001b[0;34m\u001b[0m\u001b[0m\n\u001b[1;32m    948\u001b[0m             raise TypeError('Empty {0!r}: no numeric data to '\n\u001b[0;32m--> 949\u001b[0;31m                             'plot'.format(numeric_data.__class__.__name__))\n\u001b[0m\u001b[1;32m    950\u001b[0m \u001b[0;34m\u001b[0m\u001b[0m\n\u001b[1;32m    951\u001b[0m         \u001b[0mself\u001b[0m\u001b[0;34m.\u001b[0m\u001b[0mdata\u001b[0m \u001b[0;34m=\u001b[0m \u001b[0mnumeric_data\u001b[0m\u001b[0;34m\u001b[0m\u001b[0m\n",
        "\u001b[0;31mTypeError\u001b[0m: Empty 'DataFrame': no numeric data to plot"
       ]
      },
      {
       "metadata": {},
       "output_type": "display_data",
       "text": [
        "<matplotlib.figure.Figure at 0x108c58d50>"
       ]
      }
     ],
     "prompt_number": 123
    },
    {
     "cell_type": "code",
     "collapsed": false,
     "input": [
      "result.iloc[:,2]"
     ],
     "language": "python",
     "metadata": {},
     "outputs": [
      {
       "metadata": {},
       "output_type": "pyout",
       "prompt_number": 114,
       "text": [
        "0.01    1469.267\n",
        "0.02    1076.617\n",
        "0.03    861.1278\n",
        "0.04     715.486\n",
        "0.05    606.9163\n",
        "0.06    521.1024\n",
        "0.07    450.5369\n",
        "0.08    390.8089\n",
        "Name: 0.2, dtype: object"
       ]
      }
     ],
     "prompt_number": 114
    },
    {
     "cell_type": "code",
     "collapsed": false,
     "input": [
      "from pandas.tools.plotting import lag_plot\n",
      "lag_plot(result.iloc[:,2])"
     ],
     "language": "python",
     "metadata": {},
     "outputs": [
      {
       "metadata": {},
       "output_type": "pyout",
       "prompt_number": 113,
       "text": [
        "<matplotlib.axes.AxesSubplot at 0x108c40d90>"
       ]
      },
      {
       "metadata": {},
       "output_type": "display_data",
       "png": "[encoded data removed]",
       "text": [
        "<matplotlib.figure.Figure at 0x108bb5d90>"
       ]
      }
     ],
     "prompt_number": 113
    },
    {
     "cell_type": "heading",
     "level": 4,
     "metadata": {},
     "source": [
      "Multi Armed Bayesian Bandits"
     ]
    },
    {
     "cell_type": "markdown",
     "metadata": {},
     "source": [
      "Ted Dunning of MapR Technologies\n",
      "\n",
      "*Suppose you are faced with N slot machines (colourfully called multi-armed bandits). Each bandit has an unknown probability of distributing a prize (assume for now the prizes are the same for each bandit, only the probabilities differ). Some bandits are very generous, others not so much. Of course, you don't know what these probabilities are. By only choosing one bandit per round, our task is devise a strategy to maximize our winnings.*"
     ]
    },
    {
     "cell_type": "code",
     "collapsed": false,
     "input": [
      "import numpy as np\n",
      "from pymc import rbeta\n",
      "\n",
      "rand = np.random.rand"
     ],
     "language": "python",
     "metadata": {},
     "outputs": [],
     "prompt_number": 11
    },
    {
     "cell_type": "code",
     "collapsed": false,
     "input": [
      "class Bandits(object): \n",
      "    \"\"\"\n",
      "    This class represents N bandits machines.\n",
      "\n",
      "    parameters:\n",
      "        p_array: a (n,) Numpy array of probabilities >0, <1.\n",
      "\n",
      "    methods:\n",
      "        pull( i ): return the results, 0 or 1, of pulling \n",
      "                   the ith bandit.\n",
      "    \"\"\"\n",
      "    def __init__(self, p_array):\n",
      "        self.p = p_array\n",
      "        self.optimal = np.argmax(p_array)\n",
      "        \n",
      "    def pull( self, i ):\n",
      "        #i is which arm to pull\n",
      "        return rand() < self.p[i]\n",
      "    \n",
      "    def __len__(self):\n",
      "        return len(self.p)"
     ],
     "language": "python",
     "metadata": {},
     "outputs": [],
     "prompt_number": 14
    },
    {
     "cell_type": "code",
     "collapsed": false,
     "input": [
      "class BayesianStrategy( object ): \n",
      "    \"\"\"\n",
      "    Implements a online (continously updated), learning strategy to solve\n",
      "    the Multi-Armed Bandit problem.\n",
      "    \n",
      "    parameters:\n",
      "        bandits: a Bandit class with .pull method\n",
      "    \n",
      "    methods:\n",
      "        sample_bandits(n): sample and train on n pulls.\n",
      "\n",
      "    attributes:\n",
      "        N: the cumulative number of samples\n",
      "        choices: the historical choices as a (N,) array\n",
      "        bb_score: the historical score as a (N,) array\n",
      "    \"\"\"\n",
      "    \n",
      "    def __init__(self, bandits):\n",
      "        \n",
      "        self.bandits = bandits\n",
      "        n_bandits = len( self.bandits )\n",
      "        self.wins = np.zeros( n_bandits )\n",
      "        self.trials = np.zeros(n_bandits )\n",
      "        self.N = 0\n",
      "        self.choices = []\n",
      "        self.bb_score = []\n",
      "\n",
      "    \n",
      "    def sample_bandits( self, n=1 ):\n",
      "        \n",
      "        bb_score = np.zeros( n )\n",
      "        choices = np.zeros( n )\n",
      "        \n",
      "        for k in range(n):\n",
      "            #sample from the bandits's priors, and select the largest sample\n",
      "            choice = np.argmax( rbeta( 1 + self.wins, 1 + self.trials - self.wins) )\n",
      "            \n",
      "            #sample the chosen bandit\n",
      "            result = self.bandits.pull( choice )\n",
      "            \n",
      "            #update priors and score\n",
      "            self.wins[ choice ] += result\n",
      "            self.trials[ choice ] += 1\n",
      "            bb_score[ k ] = result \n",
      "            self.N += 1\n",
      "            choices[ k ] = choice\n",
      "            \n",
      "        self.bb_score = np.r_[ self.bb_score, bb_score ]\n",
      "        self.choices = np.r_[ self.choices, choices ]\n",
      "        return "
     ],
     "language": "python",
     "metadata": {},
     "outputs": [],
     "prompt_number": 15
    },
    {
     "cell_type": "markdown",
     "metadata": {},
     "source": [
      "Visualize MAB learning"
     ]
    },
    {
     "cell_type": "code",
     "collapsed": false,
     "input": [
      "import scipy.stats as stats\n",
      "import matplotlib.pyplot as plt\n",
      "import seaborn\n",
      "#%matplotlib inline\n",
      "%pylab inline\n",
      "figsize=( 11.0, 10)\n",
      "\n",
      "beta = stats.beta\n",
      "x = np.linspace(0.001,.999,200)\n",
      "\n",
      "def plot_priors(bayesian_strategy, prob, lw = 3, alpha = 0.2, plt_vlines = True):\n",
      "    ## plotting function\n",
      "    wins = bayesian_strategy.wins\n",
      "    trials = bayesian_strategy.trials\n",
      "    for i in range( prob.shape[0] ):\n",
      "        y = beta( 1+wins[i], 1 + trials[i] - wins[i] )\n",
      "        p = plt.plot( x, y.pdf(x), lw = lw )\n",
      "        c = p[0].get_markeredgecolor()\n",
      "        plt.fill_between(x,y.pdf(x),0, color = c, alpha = alpha, \n",
      "                         label=\"underlying probability: %.2f\"%prob[i])\n",
      "        if plt_vlines:\n",
      "            plt.vlines( prob[i], 0, y.pdf(prob[i]) ,\n",
      "                       colors = c, linestyles = \"--\", lw = 2 )\n",
      "        plt.autoscale(tight = \"True\")\n",
      "        plt.title(\"Posteriors After %d pull\"%bayesian_strategy.N +\\\n",
      "                    \"s\"*(bayesian_strategy.N>1) )\n",
      "        plt.autoscale(tight=True)\n",
      "    return"
     ],
     "language": "python",
     "metadata": {},
     "outputs": [
      {
       "output_type": "stream",
       "stream": "stdout",
       "text": [
        "Populating the interactive namespace from numpy and matplotlib\n"
       ]
      },
      {
       "output_type": "stream",
       "stream": "stderr",
       "text": [
        "WARNING: pylab import has clobbered these variables: ['beta', 'figsize']\n",
        "`%matplotlib` prevents importing * from pylab and numpy\n"
       ]
      }
     ],
     "prompt_number": 29
    },
    {
     "cell_type": "code",
     "collapsed": false,
     "input": [
      "hidden_prob = np.array([0.85, 0.60, 0.75] )\n",
      "bandits = Bandits( hidden_prob )\n",
      "bayesian_strat = BayesianStrategy( bandits )\n",
      "\n",
      "draw_samples = [1, 1, 3, 10, 10, 25, 50, 100, 200, 600 ]\n",
      "\n",
      "for j,i in enumerate(draw_samples):\n",
      "    subplot( 5, 2, j+1) \n",
      "    bayesian_strat.sample_bandits(i)\n",
      "    plot_priors( bayesian_strat, hidden_prob )\n",
      "    #plt.legend()\n",
      "    plt.autoscale( tight = True )\n",
      "plt.tight_layout()"
     ],
     "language": "python",
     "metadata": {},
     "outputs": [
      {
       "metadata": {},
       "output_type": "display_data",
       "png": "[encoded data removed]",
       "text": [
        "<matplotlib.figure.Figure at 0x109b09850>"
       ]
      }
     ],
     "prompt_number": 30
    },
    {
     "cell_type": "code",
     "collapsed": false,
     "input": [
      "figsize( 12.5, 5 )\n",
      "\n",
      "from other_strats import *\n",
      "\n",
      "#define a harder problem\n",
      "hidden_prob = np.array([0.15, 0.2, 0.1, 0.05] )\n",
      "bandits = Bandits( hidden_prob )\n",
      "\n",
      "bandits = Bandits( np.array([0.15, 0.2, 0.1, 0.05] ) )\n",
      "\n",
      "#define regret\n",
      "def regret( probabilities, choices ):\n",
      "    w_opt = probabilities.max()\n",
      "    return ( w_opt - probabilities[choices.astype(int)] ).cumsum()\n",
      "\n",
      "def optimal( probabilities, choices ):\n",
      "    # add up the total show of opitmal in choices divide by len of choices\n",
      "    print type(list(choices).count(bandits.optimal)) #/ len(choices))\n",
      "    return float(list(choices).count(bandits.optimal) / len(choices))\n",
      "\n",
      "#create new strategies\n",
      "\n",
      "strategies= [epsilon_greedy,\n",
      "              bayesian_bandit,\n",
      "              ucb1,\n",
      "              random_choice ]\n",
      "algos = []\n",
      "for strat in strategies:\n",
      "    algos.append( GeneralBanditStrat( bandits, strat ))"
     ],
     "language": "python",
     "metadata": {},
     "outputs": []
    },
    {
     "cell_type": "code",
     "collapsed": false,
     "input": [
      "#train 1,000,000 times\n",
      "for strat in algos:\n",
      "    strat.sample_bandits(10000)\n",
      "    \n",
      "#test and plot\n",
      "for i,strat in enumerate(algos):\n",
      "    _regret = regret( hidden_prob, strat.choices )\n",
      "    plt.plot( _regret, label = strategies[i].__name__, lw = 3)\n",
      "\n",
      "plt.title(\"Total Regret of Bayesian Bandits Strategy vs. Random guessing\" )\n",
      "plt.xlabel(\"Number of pulls\")\n",
      "plt.ylabel(\"Regret after $n$ pulls\");\n",
      "plt.legend(loc = \"upper left\");"
     ],
     "language": "python",
     "metadata": {},
     "outputs": []
    }
   ],
   "metadata": {}
  }
 ]
}